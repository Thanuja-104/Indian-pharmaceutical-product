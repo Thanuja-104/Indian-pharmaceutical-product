{
 "cells": [
  {
   "cell_type": "code",
   "execution_count": 1,
   "id": "1d55d421-538c-4968-bf9e-452fd4eef77d",
   "metadata": {},
   "outputs": [],
   "source": [
    "import pandas as pd\n",
    "import numpy as np\n",
    "import matplotlib.pyplot as plt\n",
    "import seaborn as sns"
   ]
  },
  {
   "cell_type": "code",
   "execution_count": 2,
   "id": "d6d882a5-e2b4-47dc-bf95-a9aa3b18041a",
   "metadata": {},
   "outputs": [],
   "source": [
    "dataset = pd.read_csv('pharma_data.csv')"
   ]
  },
  {
   "cell_type": "code",
   "execution_count": 3,
   "id": "a3621fa5-6792-4a4e-9b5f-8fca42077d1b",
   "metadata": {},
   "outputs": [
    {
     "name": "stdout",
     "output_type": "stream",
     "text": [
      "<class 'pandas.core.frame.DataFrame'>\n",
      "RangeIndex: 253973 entries, 0 to 253972\n",
      "Data columns (total 15 columns):\n",
      " #   Column                  Non-Null Count   Dtype  \n",
      "---  ------                  --------------   -----  \n",
      " 0   product_id              253973 non-null  int64  \n",
      " 1   brand_name              253973 non-null  object \n",
      " 2   manufacturer            253973 non-null  object \n",
      " 3   price_inr               253973 non-null  float64\n",
      " 4   is_discontinued         253973 non-null  bool   \n",
      " 5   dosage_form             253973 non-null  object \n",
      " 6   pack_size               253973 non-null  float64\n",
      " 7   pack_unit               253973 non-null  object \n",
      " 8   num_active_ingredients  253973 non-null  int64  \n",
      " 9   primary_ingredient      253973 non-null  object \n",
      " 10  primary_strength        253973 non-null  object \n",
      " 11  active_ingredients      253973 non-null  object \n",
      " 12  therapeutic_class       253973 non-null  object \n",
      " 13  packaging_raw           253973 non-null  object \n",
      " 14  manufacturer_raw        253973 non-null  object \n",
      "dtypes: bool(1), float64(2), int64(2), object(10)\n",
      "memory usage: 27.4+ MB\n"
     ]
    }
   ],
   "source": [
    "dataset.info()"
   ]
  },
  {
   "cell_type": "code",
   "execution_count": 4,
   "id": "1ad13ab4-c1c2-48e0-9e63-84f5bebe6002",
   "metadata": {},
   "outputs": [
    {
     "data": {
      "text/plain": [
       "product_id                  int64\n",
       "brand_name                 object\n",
       "manufacturer               object\n",
       "price_inr                 float64\n",
       "is_discontinued              bool\n",
       "dosage_form                object\n",
       "pack_size                 float64\n",
       "pack_unit                  object\n",
       "num_active_ingredients      int64\n",
       "primary_ingredient         object\n",
       "primary_strength           object\n",
       "active_ingredients         object\n",
       "therapeutic_class          object\n",
       "packaging_raw              object\n",
       "manufacturer_raw           object\n",
       "dtype: object"
      ]
     },
     "execution_count": 4,
     "metadata": {},
     "output_type": "execute_result"
    }
   ],
   "source": [
    "dataset.dtypes"
   ]
  },
  {
   "cell_type": "code",
   "execution_count": 6,
   "id": "c44ce193-3ce2-43a2-924b-4df3ead6e011",
   "metadata": {},
   "outputs": [
    {
     "data": {
      "text/html": [
       "<div>\n",
       "<style scoped>\n",
       "    .dataframe tbody tr th:only-of-type {\n",
       "        vertical-align: middle;\n",
       "    }\n",
       "\n",
       "    .dataframe tbody tr th {\n",
       "        vertical-align: top;\n",
       "    }\n",
       "\n",
       "    .dataframe thead th {\n",
       "        text-align: right;\n",
       "    }\n",
       "</style>\n",
       "<table border=\"1\" class=\"dataframe\">\n",
       "  <thead>\n",
       "    <tr style=\"text-align: right;\">\n",
       "      <th></th>\n",
       "      <th>product_id</th>\n",
       "      <th>brand_name</th>\n",
       "      <th>manufacturer</th>\n",
       "      <th>price_inr</th>\n",
       "      <th>is_discontinued</th>\n",
       "      <th>dosage_form</th>\n",
       "      <th>pack_size</th>\n",
       "      <th>pack_unit</th>\n",
       "      <th>num_active_ingredients</th>\n",
       "      <th>primary_ingredient</th>\n",
       "      <th>primary_strength</th>\n",
       "      <th>active_ingredients</th>\n",
       "      <th>therapeutic_class</th>\n",
       "      <th>packaging_raw</th>\n",
       "      <th>manufacturer_raw</th>\n",
       "    </tr>\n",
       "  </thead>\n",
       "  <tbody>\n",
       "    <tr>\n",
       "      <th>0</th>\n",
       "      <td>1</td>\n",
       "      <td>Augmentin 625 Duo Tablet</td>\n",
       "      <td>Glaxo SmithKline Pharmaceuticals Ltd</td>\n",
       "      <td>223.42</td>\n",
       "      <td>False</td>\n",
       "      <td>tablet</td>\n",
       "      <td>10.0</td>\n",
       "      <td>strip</td>\n",
       "      <td>2</td>\n",
       "      <td>Amoxycillin</td>\n",
       "      <td>500mg</td>\n",
       "      <td>[{'name': 'Amoxycillin', 'strength': '500mg', ...</td>\n",
       "      <td>antibiotic</td>\n",
       "      <td>strip of 10 tablets</td>\n",
       "      <td>Glaxo SmithKline Pharmaceuticals Ltd</td>\n",
       "    </tr>\n",
       "    <tr>\n",
       "      <th>1</th>\n",
       "      <td>2</td>\n",
       "      <td>Azithral 500 Tablet</td>\n",
       "      <td>Alembic Pharmaceuticals Ltd</td>\n",
       "      <td>132.36</td>\n",
       "      <td>False</td>\n",
       "      <td>tablet</td>\n",
       "      <td>5.0</td>\n",
       "      <td>strip</td>\n",
       "      <td>1</td>\n",
       "      <td>Azithromycin</td>\n",
       "      <td>500mg</td>\n",
       "      <td>[{'name': 'Azithromycin', 'strength': '500mg',...</td>\n",
       "      <td>antibiotic</td>\n",
       "      <td>strip of 5 tablets</td>\n",
       "      <td>Alembic Pharmaceuticals Ltd</td>\n",
       "    </tr>\n",
       "    <tr>\n",
       "      <th>2</th>\n",
       "      <td>3</td>\n",
       "      <td>Ascoril LS Syrup</td>\n",
       "      <td>Glenmark Pharmaceuticals Ltd</td>\n",
       "      <td>118.00</td>\n",
       "      <td>False</td>\n",
       "      <td>syrup</td>\n",
       "      <td>100.0</td>\n",
       "      <td>bottle</td>\n",
       "      <td>2</td>\n",
       "      <td>Ambroxol</td>\n",
       "      <td>30mg/5ml</td>\n",
       "      <td>[{'name': 'Ambroxol', 'strength': '30mg/5ml', ...</td>\n",
       "      <td>bronchodilator</td>\n",
       "      <td>bottle of 100 ml Syrup</td>\n",
       "      <td>Glenmark Pharmaceuticals Ltd</td>\n",
       "    </tr>\n",
       "    <tr>\n",
       "      <th>3</th>\n",
       "      <td>4</td>\n",
       "      <td>Allegra 120mg Tablet</td>\n",
       "      <td>Sanofi India Ltd</td>\n",
       "      <td>218.81</td>\n",
       "      <td>False</td>\n",
       "      <td>tablet</td>\n",
       "      <td>10.0</td>\n",
       "      <td>strip</td>\n",
       "      <td>1</td>\n",
       "      <td>Fexofenadine</td>\n",
       "      <td>120mg</td>\n",
       "      <td>[{'name': 'Fexofenadine', 'strength': '120mg',...</td>\n",
       "      <td>antihistamine</td>\n",
       "      <td>strip of 10 tablets</td>\n",
       "      <td>Sanofi India  Ltd</td>\n",
       "    </tr>\n",
       "    <tr>\n",
       "      <th>4</th>\n",
       "      <td>5</td>\n",
       "      <td>Avil 25 Tablet</td>\n",
       "      <td>Sanofi India Ltd</td>\n",
       "      <td>10.96</td>\n",
       "      <td>False</td>\n",
       "      <td>tablet</td>\n",
       "      <td>15.0</td>\n",
       "      <td>strip</td>\n",
       "      <td>1</td>\n",
       "      <td>Pheniramine</td>\n",
       "      <td>25mg</td>\n",
       "      <td>[{'name': 'Pheniramine', 'strength': '25mg', '...</td>\n",
       "      <td>other</td>\n",
       "      <td>strip of 15 tablets</td>\n",
       "      <td>Sanofi India  Ltd</td>\n",
       "    </tr>\n",
       "  </tbody>\n",
       "</table>\n",
       "</div>"
      ],
      "text/plain": [
       "   product_id                brand_name                          manufacturer  \\\n",
       "0           1  Augmentin 625 Duo Tablet  Glaxo SmithKline Pharmaceuticals Ltd   \n",
       "1           2       Azithral 500 Tablet           Alembic Pharmaceuticals Ltd   \n",
       "2           3          Ascoril LS Syrup          Glenmark Pharmaceuticals Ltd   \n",
       "3           4      Allegra 120mg Tablet                      Sanofi India Ltd   \n",
       "4           5            Avil 25 Tablet                      Sanofi India Ltd   \n",
       "\n",
       "   price_inr  is_discontinued dosage_form  pack_size pack_unit  \\\n",
       "0     223.42            False      tablet       10.0     strip   \n",
       "1     132.36            False      tablet        5.0     strip   \n",
       "2     118.00            False       syrup      100.0    bottle   \n",
       "3     218.81            False      tablet       10.0     strip   \n",
       "4      10.96            False      tablet       15.0     strip   \n",
       "\n",
       "   num_active_ingredients primary_ingredient primary_strength  \\\n",
       "0                       2        Amoxycillin            500mg   \n",
       "1                       1       Azithromycin            500mg   \n",
       "2                       2           Ambroxol         30mg/5ml   \n",
       "3                       1       Fexofenadine            120mg   \n",
       "4                       1        Pheniramine             25mg   \n",
       "\n",
       "                                  active_ingredients therapeutic_class  \\\n",
       "0  [{'name': 'Amoxycillin', 'strength': '500mg', ...        antibiotic   \n",
       "1  [{'name': 'Azithromycin', 'strength': '500mg',...        antibiotic   \n",
       "2  [{'name': 'Ambroxol', 'strength': '30mg/5ml', ...    bronchodilator   \n",
       "3  [{'name': 'Fexofenadine', 'strength': '120mg',...     antihistamine   \n",
       "4  [{'name': 'Pheniramine', 'strength': '25mg', '...             other   \n",
       "\n",
       "            packaging_raw                      manufacturer_raw  \n",
       "0     strip of 10 tablets  Glaxo SmithKline Pharmaceuticals Ltd  \n",
       "1      strip of 5 tablets           Alembic Pharmaceuticals Ltd  \n",
       "2  bottle of 100 ml Syrup          Glenmark Pharmaceuticals Ltd  \n",
       "3     strip of 10 tablets                     Sanofi India  Ltd  \n",
       "4     strip of 15 tablets                     Sanofi India  Ltd  "
      ]
     },
     "execution_count": 6,
     "metadata": {},
     "output_type": "execute_result"
    }
   ],
   "source": [
    "dataset.head()"
   ]
  },
  {
   "cell_type": "markdown",
   "id": "66558dd4-57b0-44ac-bf41-76c760f384f6",
   "metadata": {},
   "source": [
    "### Qs 1) What does the is_discontinued column tell us, and how would you analyze it?"
   ]
  },
  {
   "cell_type": "code",
   "execution_count": 8,
   "id": "4ee808c7-e2f8-452a-b6fe-bd3c0ef025f0",
   "metadata": {},
   "outputs": [],
   "source": [
    "#False → Product is currently available\n",
    "\n",
    "#True → Product has been discontinued"
   ]
  },
  {
   "cell_type": "code",
   "execution_count": 9,
   "id": "bffd2258-871a-48b0-b18e-18c4afdc48e9",
   "metadata": {},
   "outputs": [
    {
     "data": {
      "text/plain": [
       "is_discontinued\n",
       "False    246068\n",
       "True       7905\n",
       "Name: count, dtype: int64"
      ]
     },
     "execution_count": 9,
     "metadata": {},
     "output_type": "execute_result"
    }
   ],
   "source": [
    "dataset['is_discontinued'].value_counts()"
   ]
  },
  {
   "cell_type": "code",
   "execution_count": 10,
   "id": "9506776d-0fc7-4f95-90f7-c77fbd45f75e",
   "metadata": {},
   "outputs": [
    {
     "data": {
      "image/png": "[encoded data removed]",
      "text/plain": [
       "<Figure size 640x480 with 1 Axes>"
      ]
     },
     "metadata": {},
     "output_type": "display_data"
    }
   ],
   "source": [
    "dataset['is_discontinued'].value_counts().plot(kind='bar', color=['green','red'])\n",
    "plt.xticks([0,1],['Active','Discontinued'])\n",
    "plt.title('Product Status')\n",
    "plt.ylabel('Count')\n",
    "plt.show()"
   ]
  },
  {
   "cell_type": "code",
   "execution_count": 12,
   "id": "73899115-ee1b-4b00-83e4-f22fc3f0fb06",
   "metadata": {},
   "outputs": [
    {
     "data": {
      "text/plain": [
       "dosage_form\n",
       "inhaler       0.209738\n",
       "spray         0.095628\n",
       "respules      0.090164\n",
       "powder        0.076923\n",
       "gel           0.062833\n",
       "other         0.059294\n",
       "ointment      0.056920\n",
       "solution      0.047566\n",
       "cream         0.040229\n",
       "drops         0.037296\n",
       "capsule       0.031350\n",
       "injection     0.030801\n",
       "tablet        0.030448\n",
       "syrup         0.019824\n",
       "suspension    0.016995\n",
       "Name: is_discontinued, dtype: float64"
      ]
     },
     "execution_count": 12,
     "metadata": {},
     "output_type": "execute_result"
    }
   ],
   "source": [
    "#Analyze by Dosage Form\n",
    "dataset.groupby('dosage_form')['is_discontinued'].mean().sort_values(ascending=False)"
   ]
  },
  {
   "cell_type": "code",
   "execution_count": 13,
   "id": "0f290cf5-dcfd-42f1-b960-1055fdd62914",
   "metadata": {},
   "outputs": [
    {
     "data": {
      "text/html": [
       "<div>\n",
       "<style scoped>\n",
       "    .dataframe tbody tr th:only-of-type {\n",
       "        vertical-align: middle;\n",
       "    }\n",
       "\n",
       "    .dataframe tbody tr th {\n",
       "        vertical-align: top;\n",
       "    }\n",
       "\n",
       "    .dataframe thead th {\n",
       "        text-align: right;\n",
       "    }\n",
       "</style>\n",
       "<table border=\"1\" class=\"dataframe\">\n",
       "  <thead>\n",
       "    <tr style=\"text-align: right;\">\n",
       "      <th></th>\n",
       "      <th>count</th>\n",
       "      <th>mean</th>\n",
       "      <th>std</th>\n",
       "      <th>min</th>\n",
       "      <th>25%</th>\n",
       "      <th>50%</th>\n",
       "      <th>75%</th>\n",
       "      <th>max</th>\n",
       "    </tr>\n",
       "    <tr>\n",
       "      <th>is_discontinued</th>\n",
       "      <th></th>\n",
       "      <th></th>\n",
       "      <th></th>\n",
       "      <th></th>\n",
       "      <th></th>\n",
       "      <th></th>\n",
       "      <th></th>\n",
       "      <th></th>\n",
       "    </tr>\n",
       "  </thead>\n",
       "  <tbody>\n",
       "    <tr>\n",
       "      <th>False</th>\n",
       "      <td>246068.0</td>\n",
       "      <td>265.002121</td>\n",
       "      <td>3028.003408</td>\n",
       "      <td>0.00</td>\n",
       "      <td>48.0</td>\n",
       "      <td>79.0</td>\n",
       "      <td>140.0</td>\n",
       "      <td>436000.0</td>\n",
       "    </tr>\n",
       "    <tr>\n",
       "      <th>True</th>\n",
       "      <td>7905.0</td>\n",
       "      <td>442.629725</td>\n",
       "      <td>3073.608370</td>\n",
       "      <td>1.25</td>\n",
       "      <td>40.3</td>\n",
       "      <td>77.0</td>\n",
       "      <td>149.0</td>\n",
       "      <td>110700.0</td>\n",
       "    </tr>\n",
       "  </tbody>\n",
       "</table>\n",
       "</div>"
      ],
      "text/plain": [
       "                    count        mean          std   min   25%   50%    75%  \\\n",
       "is_discontinued                                                               \n",
       "False            246068.0  265.002121  3028.003408  0.00  48.0  79.0  140.0   \n",
       "True               7905.0  442.629725  3073.608370  1.25  40.3  77.0  149.0   \n",
       "\n",
       "                      max  \n",
       "is_discontinued            \n",
       "False            436000.0  \n",
       "True             110700.0  "
      ]
     },
     "execution_count": 13,
     "metadata": {},
     "output_type": "execute_result"
    }
   ],
   "source": [
    "dataset.groupby('is_discontinued')['price_inr'].describe()"
   ]
  },
  {
   "cell_type": "markdown",
   "id": "97ed9fe7-1dd8-4f90-b267-6057779b5668",
   "metadata": {},
   "source": [
    "## Qs2)How would you find the average price of each dosage form?"
   ]
  },
  {
   "cell_type": "code",
   "execution_count": 14,
   "id": "55f469ea-68e8-4d2c-a473-dbc26ac99a16",
   "metadata": {},
   "outputs": [
    {
     "data": {
      "text/plain": [
       "dosage_form\n",
       "solution      1130.632677\n",
       "injection      893.375552\n",
       "inhaler        472.815131\n",
       "other          462.836402\n",
       "powder         391.151910\n",
       "spray          376.610628\n",
       "capsule        315.301660\n",
       "tablet         163.554909\n",
       "respules       156.661967\n",
       "gel            150.467736\n",
       "cream          132.384747\n",
       "ointment       125.009575\n",
       "drops           89.337565\n",
       "suspension      82.002697\n",
       "syrup           70.845032\n",
       "Name: price_inr, dtype: float64"
      ]
     },
     "execution_count": 14,
     "metadata": {},
     "output_type": "execute_result"
    }
   ],
   "source": [
    "dataset.groupby('dosage_form')['price_inr'].mean().sort_values(ascending=False)"
   ]
  },
  {
   "cell_type": "markdown",
   "id": "6f7ea223-c2dd-4190-af1f-ceb46991bd67",
   "metadata": {},
   "source": [
    "## Qs3) How many products are manufactured by each company?"
   ]
  },
  {
   "cell_type": "code",
   "execution_count": 15,
   "id": "00522934-a282-47de-9365-e93575a80283",
   "metadata": {},
   "outputs": [
    {
     "data": {
      "text/plain": [
       "manufacturer\n",
       "Sun Pharmaceutical Industries Ltd    2986\n",
       "Cipla Ltd                            2467\n",
       "Intas Pharmaceuticals Ltd            2302\n",
       "Torrent Pharmaceuticals Ltd          2027\n",
       "Alkem Laboratories Ltd               1809\n",
       "                                     ... \n",
       "Target Dermacare Private Limited        1\n",
       "Enactis Healthcare Pvt Ltd              1\n",
       "Rakesh Pharmaceuticals                  1\n",
       "Saiva Healthcare                        1\n",
       "Anamiva Life Sciences                   1\n",
       "Name: count, Length: 7648, dtype: int64"
      ]
     },
     "execution_count": 15,
     "metadata": {},
     "output_type": "execute_result"
    }
   ],
   "source": [
    "dataset['manufacturer'].value_counts()"
   ]
  },
  {
   "cell_type": "code",
   "execution_count": 16,
   "id": "7e704ee5-ec4c-447b-9cf4-87fbdaa21f7b",
   "metadata": {},
   "outputs": [
    {
     "data": {
      "text/plain": [
       "manufacturer\n",
       "Sun Pharmaceutical Industries Ltd    2986\n",
       "Cipla Ltd                            2467\n",
       "Intas Pharmaceuticals Ltd            2302\n",
       "Torrent Pharmaceuticals Ltd          2027\n",
       "Alkem Laboratories Ltd               1809\n",
       "Abbott                               1777\n",
       "Zydus Cadila                         1768\n",
       "Lupin Ltd                            1735\n",
       "Micro Labs Ltd                       1305\n",
       "Mankind Pharma Ltd                   1297\n",
       "Name: count, dtype: int64"
      ]
     },
     "execution_count": 16,
     "metadata": {},
     "output_type": "execute_result"
    }
   ],
   "source": [
    "# top 10\n",
    "dataset['manufacturer'].value_counts().head(10)"
   ]
  },
  {
   "cell_type": "markdown",
   "id": "214ffd6e-778b-4289-a783-020c52a132e1",
   "metadata": {},
   "source": [
    "## Qs4) Which therapeutic class has the highest average price?"
   ]
  },
  {
   "cell_type": "code",
   "execution_count": 18,
   "id": "07d1f728-b344-4428-be62-215f2b406cc5",
   "metadata": {},
   "outputs": [
    {
     "data": {
      "text/plain": [
       "therapeutic_class\n",
       "other               413.749735\n",
       "corticosteroid      124.893605\n",
       "diuretic            101.110909\n",
       "antibiotic           99.639244\n",
       "antidiabetic         92.677786\n",
       "antihypertensive     83.117041\n",
       "antacid              81.536670\n",
       "antidepressant       73.629928\n",
       "antihistamine        71.298426\n",
       "bronchodilator       67.923108\n",
       "analgesic            60.553059\n",
       "Name: price_inr, dtype: float64"
      ]
     },
     "execution_count": 18,
     "metadata": {},
     "output_type": "execute_result"
    }
   ],
   "source": [
    "dataset.groupby('therapeutic_class')['price_inr'].mean().sort_values(ascending=False)"
   ]
  },
  {
   "cell_type": "code",
   "execution_count": 19,
   "id": "3adc7ff2-275a-4527-8c8b-dbabeaa24be1",
   "metadata": {},
   "outputs": [
    {
     "data": {
      "text/plain": [
       "therapeutic_class\n",
       "other    413.749735\n",
       "Name: price_inr, dtype: float64"
      ]
     },
     "execution_count": 19,
     "metadata": {},
     "output_type": "execute_result"
    }
   ],
   "source": [
    "dataset.groupby('therapeutic_class')['price_inr'].mean().sort_values(ascending=False).head(1)"
   ]
  },
  {
   "cell_type": "code",
   "execution_count": 20,
   "id": "739d6543-6fe6-427b-9cdb-59b414337aca",
   "metadata": {},
   "outputs": [
    {
     "data": {
      "image/png": "[encoded data removed]",
      "text/plain": [
       "<Figure size 1000x600 with 1 Axes>"
      ]
     },
     "metadata": {},
     "output_type": "display_data"
    }
   ],
   "source": [
    "# Top 10 classes by average price\n",
    "avg_price = dataset.groupby('therapeutic_class')['price_inr'].mean().sort_values(ascending=False).head(10)\n",
    "\n",
    "# Plotting\n",
    "plt.figure(figsize=(10,6))\n",
    "avg_price.plot(kind='barh', color='tomato')\n",
    "plt.title('Top 10 Therapeutic Classes by Average Price')\n",
    "plt.xlabel('Average Price (INR)')\n",
    "plt.gca().invert_yaxis()  # Highest on top\n",
    "plt.grid(True, axis='x', linestyle='--', alpha=0.6)\n",
    "plt.tight_layout()\n",
    "plt.show()\n"
   ]
  },
  {
   "cell_type": "markdown",
   "id": "ae37ace8-b4cb-4abd-8f18-fe7cd1c46965",
   "metadata": {},
   "source": [
    "## Qs4) Find the most expensive product for each therapeutic class."
   ]
  },
  {
   "cell_type": "code",
   "execution_count": 21,
   "id": "069ad9dc-e173-45d4-81e6-f0b1c8d8702a",
   "metadata": {},
   "outputs": [
    {
     "data": {
      "text/plain": [
       "therapeutic_class\n",
       "other               144119\n",
       "antibiotic           30660\n",
       "analgesic            24105\n",
       "antacid              17432\n",
       "antihistamine        13414\n",
       "antidiabetic          8957\n",
       "antihypertensive      7324\n",
       "corticosteroid        2968\n",
       "antidepressant        2499\n",
       "bronchodilator        1802\n",
       "diuretic               693\n",
       "Name: count, dtype: int64"
      ]
     },
     "execution_count": 21,
     "metadata": {},
     "output_type": "execute_result"
    }
   ],
   "source": [
    "dataset['therapeutic_class'].value_counts()"
   ]
  },
  {
   "cell_type": "code",
   "execution_count": 22,
   "id": "0d0daa8d-16e1-48a9-b25c-ce72ef24910d",
   "metadata": {},
   "outputs": [
    {
     "data": {
      "text/plain": [
       "therapeutic_class\n",
       "other               59629198.12\n",
       "antibiotic           3054939.21\n",
       "analgesic            1459631.49\n",
       "antacid              1421347.24\n",
       "antihistamine         956397.08\n",
       "antidiabetic          830114.93\n",
       "antihypertensive      608749.21\n",
       "corticosteroid        370684.22\n",
       "antidepressant        184001.19\n",
       "bronchodilator        122397.44\n",
       "diuretic               70069.86\n",
       "Name: price_inr, dtype: float64"
      ]
     },
     "execution_count": 22,
     "metadata": {},
     "output_type": "execute_result"
    }
   ],
   "source": [
    "dataset.groupby('therapeutic_class')['price_inr'].sum().sort_values(ascending=False)"
   ]
  },
  {
   "cell_type": "code",
   "execution_count": 24,
   "id": "3eb29919-a17e-41f7-9644-c58bf95d1a25",
   "metadata": {},
   "outputs": [
    {
     "data": {
      "text/plain": [
       "therapeutic_class\n",
       "analgesic            61291\n",
       "antacid             166103\n",
       "antibiotic           72815\n",
       "antidepressant       74474\n",
       "antidiabetic        233899\n",
       "antihistamine       141229\n",
       "antihypertensive     73115\n",
       "bronchodilator      200610\n",
       "corticosteroid      162024\n",
       "diuretic             37660\n",
       "other               113862\n",
       "Name: price_inr, dtype: int64"
      ]
     },
     "execution_count": 24,
     "metadata": {},
     "output_type": "execute_result"
    }
   ],
   "source": [
    "dataset.groupby('therapeutic_class')['price_inr'].idxmax()"
   ]
  },
  {
   "cell_type": "code",
   "execution_count": 25,
   "id": "988d22bf-74ae-4e64-aab1-c6acdab703bd",
   "metadata": {},
   "outputs": [
    {
     "data": {
      "text/html": [
       "<div>\n",
       "<style scoped>\n",
       "    .dataframe tbody tr th:only-of-type {\n",
       "        vertical-align: middle;\n",
       "    }\n",
       "\n",
       "    .dataframe tbody tr th {\n",
       "        vertical-align: top;\n",
       "    }\n",
       "\n",
       "    .dataframe thead th {\n",
       "        text-align: right;\n",
       "    }\n",
       "</style>\n",
       "<table border=\"1\" class=\"dataframe\">\n",
       "  <thead>\n",
       "    <tr style=\"text-align: right;\">\n",
       "      <th></th>\n",
       "      <th>therapeutic_class</th>\n",
       "      <th>brand_name</th>\n",
       "      <th>manufacturer</th>\n",
       "      <th>price_inr</th>\n",
       "      <th>dosage_form</th>\n",
       "      <th>primary_ingredient</th>\n",
       "    </tr>\n",
       "  </thead>\n",
       "  <tbody>\n",
       "    <tr>\n",
       "      <th>61291</th>\n",
       "      <td>analgesic</td>\n",
       "      <td>D Touch 100mg Patch</td>\n",
       "      <td>Sparsha Pharma International Pvt Ltd</td>\n",
       "      <td>1800.00</td>\n",
       "      <td>other</td>\n",
       "      <td>Diclofenac</td>\n",
       "    </tr>\n",
       "    <tr>\n",
       "      <th>166103</th>\n",
       "      <td>antacid</td>\n",
       "      <td>Omp D Capsule</td>\n",
       "      <td>Torrent Pharmaceuticals Ltd</td>\n",
       "      <td>964.60</td>\n",
       "      <td>capsule</td>\n",
       "      <td>Domperidone</td>\n",
       "    </tr>\n",
       "    <tr>\n",
       "      <th>72815</th>\n",
       "      <td>antibiotic</td>\n",
       "      <td>Elores 3000mg Injection</td>\n",
       "      <td>Venus Remedies Ltd</td>\n",
       "      <td>2274.67</td>\n",
       "      <td>injection</td>\n",
       "      <td>Ceftriaxone</td>\n",
       "    </tr>\n",
       "    <tr>\n",
       "      <th>74474</th>\n",
       "      <td>antidepressant</td>\n",
       "      <td>Elpram C 10mg/0.5mg Tablet</td>\n",
       "      <td>Psycogen Captab</td>\n",
       "      <td>700.00</td>\n",
       "      <td>tablet</td>\n",
       "      <td>Clonazepam</td>\n",
       "    </tr>\n",
       "    <tr>\n",
       "      <th>233899</th>\n",
       "      <td>antidiabetic</td>\n",
       "      <td>Vokanamet 50mg/500mg Tablet</td>\n",
       "      <td>Johnson &amp; Johnson Ltd</td>\n",
       "      <td>1920.00</td>\n",
       "      <td>tablet</td>\n",
       "      <td>Canagliflozin</td>\n",
       "    </tr>\n",
       "    <tr>\n",
       "      <th>141229</th>\n",
       "      <td>antihistamine</td>\n",
       "      <td>Manofex 180mg Tablet</td>\n",
       "      <td>Cmg Biotech Pvt Ltd</td>\n",
       "      <td>388.00</td>\n",
       "      <td>tablet</td>\n",
       "      <td>Fexofenadine</td>\n",
       "    </tr>\n",
       "    <tr>\n",
       "      <th>73115</th>\n",
       "      <td>antihypertensive</td>\n",
       "      <td>Exforge 10 mg/160 mg Tablet</td>\n",
       "      <td>Novartis India Ltd</td>\n",
       "      <td>840.38</td>\n",
       "      <td>tablet</td>\n",
       "      <td>Amlodipine</td>\n",
       "    </tr>\n",
       "    <tr>\n",
       "      <th>200610</th>\n",
       "      <td>bronchodilator</td>\n",
       "      <td>Salbair I Neb 1.25 Transpules 2.5ml</td>\n",
       "      <td>Lupin Ltd</td>\n",
       "      <td>487.50</td>\n",
       "      <td>other</td>\n",
       "      <td>Levosalbutamol</td>\n",
       "    </tr>\n",
       "    <tr>\n",
       "      <th>162024</th>\n",
       "      <td>corticosteroid</td>\n",
       "      <td>Ozurdex Injection</td>\n",
       "      <td>Allergan India Pvt Ltd</td>\n",
       "      <td>35000.00</td>\n",
       "      <td>injection</td>\n",
       "      <td>Dexamethasone Intravitreal Implant</td>\n",
       "    </tr>\n",
       "    <tr>\n",
       "      <th>37660</th>\n",
       "      <td>diuretic</td>\n",
       "      <td>CO Diovan Fct 160/25 Tablet</td>\n",
       "      <td>Novartis India Ltd</td>\n",
       "      <td>1018.00</td>\n",
       "      <td>tablet</td>\n",
       "      <td>Valsartan</td>\n",
       "    </tr>\n",
       "    <tr>\n",
       "      <th>113862</th>\n",
       "      <td>other</td>\n",
       "      <td>Imbruvica 140mg Capsule</td>\n",
       "      <td>Janssen Pharmaceuticals</td>\n",
       "      <td>436000.00</td>\n",
       "      <td>capsule</td>\n",
       "      <td>Ibrutinib</td>\n",
       "    </tr>\n",
       "  </tbody>\n",
       "</table>\n",
       "</div>"
      ],
      "text/plain": [
       "       therapeutic_class                           brand_name  \\\n",
       "61291          analgesic                  D Touch 100mg Patch   \n",
       "166103           antacid                        Omp D Capsule   \n",
       "72815         antibiotic              Elores 3000mg Injection   \n",
       "74474     antidepressant           Elpram C 10mg/0.5mg Tablet   \n",
       "233899      antidiabetic          Vokanamet 50mg/500mg Tablet   \n",
       "141229     antihistamine                 Manofex 180mg Tablet   \n",
       "73115   antihypertensive          Exforge 10 mg/160 mg Tablet   \n",
       "200610    bronchodilator  Salbair I Neb 1.25 Transpules 2.5ml   \n",
       "162024    corticosteroid                    Ozurdex Injection   \n",
       "37660           diuretic          CO Diovan Fct 160/25 Tablet   \n",
       "113862             other              Imbruvica 140mg Capsule   \n",
       "\n",
       "                                manufacturer  price_inr dosage_form  \\\n",
       "61291   Sparsha Pharma International Pvt Ltd    1800.00       other   \n",
       "166103           Torrent Pharmaceuticals Ltd     964.60     capsule   \n",
       "72815                     Venus Remedies Ltd    2274.67   injection   \n",
       "74474                        Psycogen Captab     700.00      tablet   \n",
       "233899                 Johnson & Johnson Ltd    1920.00      tablet   \n",
       "141229                   Cmg Biotech Pvt Ltd     388.00      tablet   \n",
       "73115                     Novartis India Ltd     840.38      tablet   \n",
       "200610                             Lupin Ltd     487.50       other   \n",
       "162024                Allergan India Pvt Ltd   35000.00   injection   \n",
       "37660                     Novartis India Ltd    1018.00      tablet   \n",
       "113862               Janssen Pharmaceuticals  436000.00     capsule   \n",
       "\n",
       "                        primary_ingredient  \n",
       "61291                           Diclofenac  \n",
       "166103                         Domperidone  \n",
       "72815                          Ceftriaxone  \n",
       "74474                           Clonazepam  \n",
       "233899                       Canagliflozin  \n",
       "141229                        Fexofenadine  \n",
       "73115                           Amlodipine  \n",
       "200610                      Levosalbutamol  \n",
       "162024  Dexamethasone Intravitreal Implant  \n",
       "37660                            Valsartan  \n",
       "113862                           Ibrutinib  "
      ]
     },
     "execution_count": 25,
     "metadata": {},
     "output_type": "execute_result"
    }
   ],
   "source": [
    "idx = dataset.groupby('therapeutic_class')['price_inr'].idxmax()\n",
    "dataset.loc[idx, ['therapeutic_class', 'brand_name', 'manufacturer', 'price_inr', 'dosage_form', 'primary_ingredient']]"
   ]
  },
  {
   "cell_type": "markdown",
   "id": "9f2bae15-fee9-4292-91a8-5e035a58a492",
   "metadata": {},
   "source": [
    "## Qs5) How would you find all products that contain more than one active ingredient?"
   ]
  },
  {
   "cell_type": "code",
   "execution_count": 26,
   "id": "d5dadf90-17c4-402d-936c-2936ef8c5fb4",
   "metadata": {},
   "outputs": [
    {
     "data": {
      "text/html": [
       "<div>\n",
       "<style scoped>\n",
       "    .dataframe tbody tr th:only-of-type {\n",
       "        vertical-align: middle;\n",
       "    }\n",
       "\n",
       "    .dataframe tbody tr th {\n",
       "        vertical-align: top;\n",
       "    }\n",
       "\n",
       "    .dataframe thead th {\n",
       "        text-align: right;\n",
       "    }\n",
       "</style>\n",
       "<table border=\"1\" class=\"dataframe\">\n",
       "  <thead>\n",
       "    <tr style=\"text-align: right;\">\n",
       "      <th></th>\n",
       "      <th>brand_name</th>\n",
       "      <th>active_ingredients</th>\n",
       "    </tr>\n",
       "  </thead>\n",
       "  <tbody>\n",
       "    <tr>\n",
       "      <th>0</th>\n",
       "      <td>Augmentin 625 Duo Tablet</td>\n",
       "      <td>[{'name': 'Amoxycillin', 'strength': '500mg', ...</td>\n",
       "    </tr>\n",
       "    <tr>\n",
       "      <th>1</th>\n",
       "      <td>Azithral 500 Tablet</td>\n",
       "      <td>[{'name': 'Azithromycin', 'strength': '500mg',...</td>\n",
       "    </tr>\n",
       "    <tr>\n",
       "      <th>2</th>\n",
       "      <td>Ascoril LS Syrup</td>\n",
       "      <td>[{'name': 'Ambroxol', 'strength': '30mg/5ml', ...</td>\n",
       "    </tr>\n",
       "    <tr>\n",
       "      <th>3</th>\n",
       "      <td>Allegra 120mg Tablet</td>\n",
       "      <td>[{'name': 'Fexofenadine', 'strength': '120mg',...</td>\n",
       "    </tr>\n",
       "    <tr>\n",
       "      <th>4</th>\n",
       "      <td>Avil 25 Tablet</td>\n",
       "      <td>[{'name': 'Pheniramine', 'strength': '25mg', '...</td>\n",
       "    </tr>\n",
       "    <tr>\n",
       "      <th>...</th>\n",
       "      <td>...</td>\n",
       "      <td>...</td>\n",
       "    </tr>\n",
       "    <tr>\n",
       "      <th>253968</th>\n",
       "      <td>Ziyapod 100mg Oral Suspension</td>\n",
       "      <td>[{'name': 'Cefpodoxime Proxetil', 'strength': ...</td>\n",
       "    </tr>\n",
       "    <tr>\n",
       "      <th>253969</th>\n",
       "      <td>Zemhart 30mg Tablet</td>\n",
       "      <td>[{'name': 'Diltiazem', 'strength': '30mg', 'fu...</td>\n",
       "    </tr>\n",
       "    <tr>\n",
       "      <th>253970</th>\n",
       "      <td>Zivex 25mg Tablet</td>\n",
       "      <td>[{'name': 'Hydroxyzine', 'strength': '25mg', '...</td>\n",
       "    </tr>\n",
       "    <tr>\n",
       "      <th>253971</th>\n",
       "      <td>ZI Fast 500mg Injection</td>\n",
       "      <td>[{'name': 'Azithromycin', 'strength': '500mg',...</td>\n",
       "    </tr>\n",
       "    <tr>\n",
       "      <th>253972</th>\n",
       "      <td>Zyvocol 1% Dusting Powder</td>\n",
       "      <td>[{'name': 'Clotrimazole', 'strength': None, 'f...</td>\n",
       "    </tr>\n",
       "  </tbody>\n",
       "</table>\n",
       "<p>253973 rows × 2 columns</p>\n",
       "</div>"
      ],
      "text/plain": [
       "                           brand_name  \\\n",
       "0            Augmentin 625 Duo Tablet   \n",
       "1                 Azithral 500 Tablet   \n",
       "2                    Ascoril LS Syrup   \n",
       "3                Allegra 120mg Tablet   \n",
       "4                      Avil 25 Tablet   \n",
       "...                               ...   \n",
       "253968  Ziyapod 100mg Oral Suspension   \n",
       "253969            Zemhart 30mg Tablet   \n",
       "253970              Zivex 25mg Tablet   \n",
       "253971        ZI Fast 500mg Injection   \n",
       "253972      Zyvocol 1% Dusting Powder   \n",
       "\n",
       "                                       active_ingredients  \n",
       "0       [{'name': 'Amoxycillin', 'strength': '500mg', ...  \n",
       "1       [{'name': 'Azithromycin', 'strength': '500mg',...  \n",
       "2       [{'name': 'Ambroxol', 'strength': '30mg/5ml', ...  \n",
       "3       [{'name': 'Fexofenadine', 'strength': '120mg',...  \n",
       "4       [{'name': 'Pheniramine', 'strength': '25mg', '...  \n",
       "...                                                   ...  \n",
       "253968  [{'name': 'Cefpodoxime Proxetil', 'strength': ...  \n",
       "253969  [{'name': 'Diltiazem', 'strength': '30mg', 'fu...  \n",
       "253970  [{'name': 'Hydroxyzine', 'strength': '25mg', '...  \n",
       "253971  [{'name': 'Azithromycin', 'strength': '500mg',...  \n",
       "253972  [{'name': 'Clotrimazole', 'strength': None, 'f...  \n",
       "\n",
       "[253973 rows x 2 columns]"
      ]
     },
     "execution_count": 26,
     "metadata": {},
     "output_type": "execute_result"
    }
   ],
   "source": [
    "# Count commas (indicating multiple ingredients)\n",
    "multi_ingredient = dataset[dataset['active_ingredients'].str.count(',') >= 1]\n",
    "\n",
    "# Optional: display relevant columns\n",
    "multi_ingredient[['brand_name', 'active_ingredients']]\n"
   ]
  },
  {
   "cell_type": "markdown",
   "id": "03d7d469-d3ea-4374-a17a-b43894600c00",
   "metadata": {},
   "source": [
    "## Qs6) The pack_size column is an object type. How would you convert it to numeric and handle errors?"
   ]
  },
  {
   "cell_type": "code",
   "execution_count": 28,
   "id": "ea4996aa-d27a-46b7-8233-675328070765",
   "metadata": {},
   "outputs": [],
   "source": [
    "# dataset['pack_size'] = pd.to_numeric(dataset['pack_size'], errors= 'coerce')"
   ]
  },
  {
   "cell_type": "code",
   "execution_count": 27,
   "id": "97d9ae43-4c87-4743-9c5b-faf585f74de0",
   "metadata": {},
   "outputs": [
    {
     "data": {
      "text/plain": [
       "product_id                  int64\n",
       "brand_name                 object\n",
       "manufacturer               object\n",
       "price_inr                 float64\n",
       "is_discontinued              bool\n",
       "dosage_form                object\n",
       "pack_size                 float64\n",
       "pack_unit                  object\n",
       "num_active_ingredients      int64\n",
       "primary_ingredient         object\n",
       "primary_strength           object\n",
       "active_ingredients         object\n",
       "therapeutic_class          object\n",
       "packaging_raw              object\n",
       "manufacturer_raw           object\n",
       "dtype: object"
      ]
     },
     "execution_count": 27,
     "metadata": {},
     "output_type": "execute_result"
    }
   ],
   "source": [
    "dataset.dtypes"
   ]
  },
  {
   "cell_type": "markdown",
   "id": "8adad63f-2b62-4465-8573-5fb2bcbe65f1",
   "metadata": {},
   "source": [
    "## 7) How do you standardize dosage forms (e.g., “Tablet”, “tablet”, “TABLET”)?"
   ]
  },
  {
   "cell_type": "code",
   "execution_count": 29,
   "id": "2f71aa71-1215-43ea-8bea-a3075262def2",
   "metadata": {},
   "outputs": [],
   "source": [
    "#  dataset['dosage_form'] = dataset['dosage_form'].str.lower().str.strip()\n"
   ]
  },
  {
   "cell_type": "code",
   "execution_count": null,
   "id": "4f633036-2e70-46de-961e-5ae3d02079f9",
   "metadata": {},
   "outputs": [],
   "source": []
  }
 ],
 "metadata": {
  "kernelspec": {
   "display_name": "Python 3 (ipykernel)",
   "language": "python",
   "name": "python3"
  },
  "language_info": {
   "codemirror_mode": {
    "name": "ipython",
    "version": 3
   },
   "file_extension": ".py",
   "mimetype": "text/x-python",
   "name": "python",
   "nbconvert_exporter": "python",
   "pygments_lexer": "ipython3",
   "version": "3.12.7"
  }
 },
 "nbformat": 4,
 "nbformat_minor": 5
}
