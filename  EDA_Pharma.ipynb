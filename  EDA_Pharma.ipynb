{
 "cells": [
  {
   "cell_type": "code",
   "execution_count": 2,
   "id": "f66d1a76-0511-446a-9ae6-d724ebb86af0",
   "metadata": {},
   "outputs": [],
   "source": [
    "import pandas as pd\n",
    "import numpy as np\n",
    "import matplotlib.pyplot as plt\n",
    "import seaborn as sns"
   ]
  },
  {
   "cell_type": "code",
   "execution_count": 3,
   "id": "1e8e7006-d450-4159-a06b-1aebecf88d48",
   "metadata": {},
   "outputs": [
    {
     "data": {
      "text/html": [
       "<div>\n",
       "<style scoped>\n",
       "    .dataframe tbody tr th:only-of-type {\n",
       "        vertical-align: middle;\n",
       "    }\n",
       "\n",
       "    .dataframe tbody tr th {\n",
       "        vertical-align: top;\n",
       "    }\n",
       "\n",
       "    .dataframe thead th {\n",
       "        text-align: right;\n",
       "    }\n",
       "</style>\n",
       "<table border=\"1\" class=\"dataframe\">\n",
       "  <thead>\n",
       "    <tr style=\"text-align: right;\">\n",
       "      <th></th>\n",
       "      <th>product_id</th>\n",
       "      <th>brand_name</th>\n",
       "      <th>manufacturer</th>\n",
       "      <th>price_inr</th>\n",
       "      <th>is_discontinued</th>\n",
       "      <th>dosage_form</th>\n",
       "      <th>pack_size</th>\n",
       "      <th>pack_unit</th>\n",
       "      <th>num_active_ingredients</th>\n",
       "      <th>primary_ingredient</th>\n",
       "      <th>primary_strength</th>\n",
       "      <th>active_ingredients</th>\n",
       "      <th>therapeutic_class</th>\n",
       "      <th>packaging_raw</th>\n",
       "      <th>manufacturer_raw</th>\n",
       "    </tr>\n",
       "  </thead>\n",
       "  <tbody>\n",
       "    <tr>\n",
       "      <th>0</th>\n",
       "      <td>1</td>\n",
       "      <td>Augmentin 625 Duo Tablet</td>\n",
       "      <td>Glaxo SmithKline Pharmaceuticals Ltd</td>\n",
       "      <td>223.42</td>\n",
       "      <td>False</td>\n",
       "      <td>tablet</td>\n",
       "      <td>10.0</td>\n",
       "      <td>strip</td>\n",
       "      <td>2</td>\n",
       "      <td>Amoxycillin</td>\n",
       "      <td>500mg</td>\n",
       "      <td>[{'name': 'Amoxycillin', 'strength': '500mg', ...</td>\n",
       "      <td>antibiotic</td>\n",
       "      <td>strip of 10 tablets</td>\n",
       "      <td>Glaxo SmithKline Pharmaceuticals Ltd</td>\n",
       "    </tr>\n",
       "    <tr>\n",
       "      <th>1</th>\n",
       "      <td>2</td>\n",
       "      <td>Azithral 500 Tablet</td>\n",
       "      <td>Alembic Pharmaceuticals Ltd</td>\n",
       "      <td>132.36</td>\n",
       "      <td>False</td>\n",
       "      <td>tablet</td>\n",
       "      <td>5.0</td>\n",
       "      <td>strip</td>\n",
       "      <td>1</td>\n",
       "      <td>Azithromycin</td>\n",
       "      <td>500mg</td>\n",
       "      <td>[{'name': 'Azithromycin', 'strength': '500mg',...</td>\n",
       "      <td>antibiotic</td>\n",
       "      <td>strip of 5 tablets</td>\n",
       "      <td>Alembic Pharmaceuticals Ltd</td>\n",
       "    </tr>\n",
       "    <tr>\n",
       "      <th>2</th>\n",
       "      <td>3</td>\n",
       "      <td>Ascoril LS Syrup</td>\n",
       "      <td>Glenmark Pharmaceuticals Ltd</td>\n",
       "      <td>118.00</td>\n",
       "      <td>False</td>\n",
       "      <td>syrup</td>\n",
       "      <td>100.0</td>\n",
       "      <td>bottle</td>\n",
       "      <td>2</td>\n",
       "      <td>Ambroxol</td>\n",
       "      <td>30mg/5ml</td>\n",
       "      <td>[{'name': 'Ambroxol', 'strength': '30mg/5ml', ...</td>\n",
       "      <td>bronchodilator</td>\n",
       "      <td>bottle of 100 ml Syrup</td>\n",
       "      <td>Glenmark Pharmaceuticals Ltd</td>\n",
       "    </tr>\n",
       "    <tr>\n",
       "      <th>3</th>\n",
       "      <td>4</td>\n",
       "      <td>Allegra 120mg Tablet</td>\n",
       "      <td>Sanofi India Ltd</td>\n",
       "      <td>218.81</td>\n",
       "      <td>False</td>\n",
       "      <td>tablet</td>\n",
       "      <td>10.0</td>\n",
       "      <td>strip</td>\n",
       "      <td>1</td>\n",
       "      <td>Fexofenadine</td>\n",
       "      <td>120mg</td>\n",
       "      <td>[{'name': 'Fexofenadine', 'strength': '120mg',...</td>\n",
       "      <td>antihistamine</td>\n",
       "      <td>strip of 10 tablets</td>\n",
       "      <td>Sanofi India  Ltd</td>\n",
       "    </tr>\n",
       "    <tr>\n",
       "      <th>4</th>\n",
       "      <td>5</td>\n",
       "      <td>Avil 25 Tablet</td>\n",
       "      <td>Sanofi India Ltd</td>\n",
       "      <td>10.96</td>\n",
       "      <td>False</td>\n",
       "      <td>tablet</td>\n",
       "      <td>15.0</td>\n",
       "      <td>strip</td>\n",
       "      <td>1</td>\n",
       "      <td>Pheniramine</td>\n",
       "      <td>25mg</td>\n",
       "      <td>[{'name': 'Pheniramine', 'strength': '25mg', '...</td>\n",
       "      <td>other</td>\n",
       "      <td>strip of 15 tablets</td>\n",
       "      <td>Sanofi India  Ltd</td>\n",
       "    </tr>\n",
       "  </tbody>\n",
       "</table>\n",
       "</div>"
      ],
      "text/plain": [
       "   product_id                brand_name                          manufacturer  \\\n",
       "0           1  Augmentin 625 Duo Tablet  Glaxo SmithKline Pharmaceuticals Ltd   \n",
       "1           2       Azithral 500 Tablet           Alembic Pharmaceuticals Ltd   \n",
       "2           3          Ascoril LS Syrup          Glenmark Pharmaceuticals Ltd   \n",
       "3           4      Allegra 120mg Tablet                      Sanofi India Ltd   \n",
       "4           5            Avil 25 Tablet                      Sanofi India Ltd   \n",
       "\n",
       "   price_inr  is_discontinued dosage_form  pack_size pack_unit  \\\n",
       "0     223.42            False      tablet       10.0     strip   \n",
       "1     132.36            False      tablet        5.0     strip   \n",
       "2     118.00            False       syrup      100.0    bottle   \n",
       "3     218.81            False      tablet       10.0     strip   \n",
       "4      10.96            False      tablet       15.0     strip   \n",
       "\n",
       "   num_active_ingredients primary_ingredient primary_strength  \\\n",
       "0                       2        Amoxycillin            500mg   \n",
       "1                       1       Azithromycin            500mg   \n",
       "2                       2           Ambroxol         30mg/5ml   \n",
       "3                       1       Fexofenadine            120mg   \n",
       "4                       1        Pheniramine             25mg   \n",
       "\n",
       "                                  active_ingredients therapeutic_class  \\\n",
       "0  [{'name': 'Amoxycillin', 'strength': '500mg', ...        antibiotic   \n",
       "1  [{'name': 'Azithromycin', 'strength': '500mg',...        antibiotic   \n",
       "2  [{'name': 'Ambroxol', 'strength': '30mg/5ml', ...    bronchodilator   \n",
       "3  [{'name': 'Fexofenadine', 'strength': '120mg',...     antihistamine   \n",
       "4  [{'name': 'Pheniramine', 'strength': '25mg', '...             other   \n",
       "\n",
       "            packaging_raw                      manufacturer_raw  \n",
       "0     strip of 10 tablets  Glaxo SmithKline Pharmaceuticals Ltd  \n",
       "1      strip of 5 tablets           Alembic Pharmaceuticals Ltd  \n",
       "2  bottle of 100 ml Syrup          Glenmark Pharmaceuticals Ltd  \n",
       "3     strip of 10 tablets                     Sanofi India  Ltd  \n",
       "4     strip of 15 tablets                     Sanofi India  Ltd  "
      ]
     },
     "execution_count": 3,
     "metadata": {},
     "output_type": "execute_result"
    }
   ],
   "source": [
    "dataset = pd.read_csv('pharma_data.csv')\n",
    "dataset.head()"
   ]
  },
  {
   "cell_type": "code",
   "execution_count": 4,
   "id": "281fa3c1-462f-4dd3-be3f-338ca9ae99a0",
   "metadata": {},
   "outputs": [
    {
     "data": {
      "text/plain": [
       "(253973, 15)"
      ]
     },
     "execution_count": 4,
     "metadata": {},
     "output_type": "execute_result"
    }
   ],
   "source": [
    "dataset.shape"
   ]
  },
  {
   "cell_type": "code",
   "execution_count": 5,
   "id": "6708f711-7d84-4084-87e6-0a1cb66dde64",
   "metadata": {},
   "outputs": [
    {
     "name": "stdout",
     "output_type": "stream",
     "text": [
      "<class 'pandas.core.frame.DataFrame'>\n",
      "RangeIndex: 253973 entries, 0 to 253972\n",
      "Data columns (total 15 columns):\n",
      " #   Column                  Non-Null Count   Dtype  \n",
      "---  ------                  --------------   -----  \n",
      " 0   product_id              253973 non-null  int64  \n",
      " 1   brand_name              253973 non-null  object \n",
      " 2   manufacturer            253973 non-null  object \n",
      " 3   price_inr               253973 non-null  float64\n",
      " 4   is_discontinued         253973 non-null  bool   \n",
      " 5   dosage_form             253973 non-null  object \n",
      " 6   pack_size               253973 non-null  float64\n",
      " 7   pack_unit               253973 non-null  object \n",
      " 8   num_active_ingredients  253973 non-null  int64  \n",
      " 9   primary_ingredient      253973 non-null  object \n",
      " 10  primary_strength        253973 non-null  object \n",
      " 11  active_ingredients      253973 non-null  object \n",
      " 12  therapeutic_class       253973 non-null  object \n",
      " 13  packaging_raw           253973 non-null  object \n",
      " 14  manufacturer_raw        253973 non-null  object \n",
      "dtypes: bool(1), float64(2), int64(2), object(10)\n",
      "memory usage: 27.4+ MB\n"
     ]
    }
   ],
   "source": [
    "dataset.info()"
   ]
  },
  {
   "cell_type": "code",
   "execution_count": 6,
   "id": "f09d6dae-8e29-47de-9926-96351a08932e",
   "metadata": {},
   "outputs": [
    {
     "data": {
      "text/plain": [
       "product_id                  int64\n",
       "brand_name                 object\n",
       "manufacturer               object\n",
       "price_inr                 float64\n",
       "is_discontinued              bool\n",
       "dosage_form                object\n",
       "pack_size                 float64\n",
       "pack_unit                  object\n",
       "num_active_ingredients      int64\n",
       "primary_ingredient         object\n",
       "primary_strength           object\n",
       "active_ingredients         object\n",
       "therapeutic_class          object\n",
       "packaging_raw              object\n",
       "manufacturer_raw           object\n",
       "dtype: object"
      ]
     },
     "execution_count": 6,
     "metadata": {},
     "output_type": "execute_result"
    }
   ],
   "source": [
    "dataset.dtypes"
   ]
  },
  {
   "cell_type": "code",
   "execution_count": 7,
   "id": "3e05a093-5cdd-4dba-9c81-0de9736772b9",
   "metadata": {},
   "outputs": [
    {
     "data": {
      "text/plain": [
       "product_id                0\n",
       "brand_name                0\n",
       "manufacturer              0\n",
       "price_inr                 0\n",
       "is_discontinued           0\n",
       "dosage_form               0\n",
       "pack_size                 0\n",
       "pack_unit                 0\n",
       "num_active_ingredients    0\n",
       "primary_ingredient        0\n",
       "primary_strength          0\n",
       "active_ingredients        0\n",
       "therapeutic_class         0\n",
       "packaging_raw             0\n",
       "manufacturer_raw          0\n",
       "dtype: int64"
      ]
     },
     "execution_count": 7,
     "metadata": {},
     "output_type": "execute_result"
    }
   ],
   "source": [
    "# check null values\n",
    "dataset.isnull().sum()"
   ]
  },
  {
   "cell_type": "code",
   "execution_count": 8,
   "id": "80141a3b-dfec-41b9-9935-b5dd113d9733",
   "metadata": {},
   "outputs": [
    {
     "data": {
      "text/plain": [
       "0         False\n",
       "1         False\n",
       "2         False\n",
       "3         False\n",
       "4         False\n",
       "          ...  \n",
       "253968    False\n",
       "253969    False\n",
       "253970    False\n",
       "253971    False\n",
       "253972    False\n",
       "Length: 253973, dtype: bool"
      ]
     },
     "execution_count": 8,
     "metadata": {},
     "output_type": "execute_result"
    }
   ],
   "source": [
    "# check duplicate values\n",
    "dataset.duplicated()"
   ]
  },
  {
   "cell_type": "markdown",
   "id": "e85c58bf-6d9a-4863-9e0e-5c89f9b00579",
   "metadata": {},
   "source": [
    "### Basic Descriptive Stats"
   ]
  },
  {
   "cell_type": "code",
   "execution_count": 11,
   "id": "88b77675-d2af-4724-92a0-cf609508135a",
   "metadata": {},
   "outputs": [
    {
     "data": {
      "text/html": [
       "<div>\n",
       "<style scoped>\n",
       "    .dataframe tbody tr th:only-of-type {\n",
       "        vertical-align: middle;\n",
       "    }\n",
       "\n",
       "    .dataframe tbody tr th {\n",
       "        vertical-align: top;\n",
       "    }\n",
       "\n",
       "    .dataframe thead th {\n",
       "        text-align: right;\n",
       "    }\n",
       "</style>\n",
       "<table border=\"1\" class=\"dataframe\">\n",
       "  <thead>\n",
       "    <tr style=\"text-align: right;\">\n",
       "      <th></th>\n",
       "      <th>product_id</th>\n",
       "      <th>price_inr</th>\n",
       "      <th>pack_size</th>\n",
       "      <th>num_active_ingredients</th>\n",
       "    </tr>\n",
       "  </thead>\n",
       "  <tbody>\n",
       "    <tr>\n",
       "      <th>count</th>\n",
       "      <td>253973.000000</td>\n",
       "      <td>253973.000000</td>\n",
       "      <td>253973.000000</td>\n",
       "      <td>253973.000000</td>\n",
       "    </tr>\n",
       "    <tr>\n",
       "      <th>mean</th>\n",
       "      <td>126987.000000</td>\n",
       "      <td>270.530844</td>\n",
       "      <td>17.319317</td>\n",
       "      <td>1.441893</td>\n",
       "    </tr>\n",
       "    <tr>\n",
       "      <th>std</th>\n",
       "      <td>73315.834296</td>\n",
       "      <td>3029.584134</td>\n",
       "      <td>35.475945</td>\n",
       "      <td>0.496795</td>\n",
       "    </tr>\n",
       "    <tr>\n",
       "      <th>min</th>\n",
       "      <td>1.000000</td>\n",
       "      <td>0.000000</td>\n",
       "      <td>0.000000</td>\n",
       "      <td>1.000000</td>\n",
       "    </tr>\n",
       "    <tr>\n",
       "      <th>25%</th>\n",
       "      <td>63494.000000</td>\n",
       "      <td>48.000000</td>\n",
       "      <td>10.000000</td>\n",
       "      <td>1.000000</td>\n",
       "    </tr>\n",
       "    <tr>\n",
       "      <th>50%</th>\n",
       "      <td>126987.000000</td>\n",
       "      <td>79.000000</td>\n",
       "      <td>10.000000</td>\n",
       "      <td>1.000000</td>\n",
       "    </tr>\n",
       "    <tr>\n",
       "      <th>75%</th>\n",
       "      <td>190480.000000</td>\n",
       "      <td>140.000000</td>\n",
       "      <td>10.000000</td>\n",
       "      <td>2.000000</td>\n",
       "    </tr>\n",
       "    <tr>\n",
       "      <th>max</th>\n",
       "      <td>253973.000000</td>\n",
       "      <td>436000.000000</td>\n",
       "      <td>5000.000000</td>\n",
       "      <td>5.000000</td>\n",
       "    </tr>\n",
       "  </tbody>\n",
       "</table>\n",
       "</div>"
      ],
      "text/plain": [
       "          product_id      price_inr      pack_size  num_active_ingredients\n",
       "count  253973.000000  253973.000000  253973.000000           253973.000000\n",
       "mean   126987.000000     270.530844      17.319317                1.441893\n",
       "std     73315.834296    3029.584134      35.475945                0.496795\n",
       "min         1.000000       0.000000       0.000000                1.000000\n",
       "25%     63494.000000      48.000000      10.000000                1.000000\n",
       "50%    126987.000000      79.000000      10.000000                1.000000\n",
       "75%    190480.000000     140.000000      10.000000                2.000000\n",
       "max    253973.000000  436000.000000    5000.000000                5.000000"
      ]
     },
     "execution_count": 11,
     "metadata": {},
     "output_type": "execute_result"
    }
   ],
   "source": [
    "dataset.describe()"
   ]
  },
  {
   "cell_type": "code",
   "execution_count": 12,
   "id": "fbeffc63-5651-429e-8261-2cba4c4187bc",
   "metadata": {},
   "outputs": [],
   "source": [
    "#Top Dosage Forms"
   ]
  },
  {
   "cell_type": "code",
   "execution_count": 9,
   "id": "197381f4-2190-4d2e-86ae-886534373a93",
   "metadata": {},
   "outputs": [
    {
     "data": {
      "text/plain": [
       "dosage_form\n",
       "tablet    152586\n",
       "Name: count, dtype: int64"
      ]
     },
     "execution_count": 9,
     "metadata": {},
     "output_type": "execute_result"
    }
   ],
   "source": [
    "dataset['dosage_form'].value_counts().head(1)"
   ]
  },
  {
   "cell_type": "code",
   "execution_count": 10,
   "id": "86b4abfd-69f9-40ec-a2f1-73d8ff6ddd81",
   "metadata": {},
   "outputs": [
    {
     "data": {
      "text/plain": [
       "dosage_form\n",
       "respules    122\n",
       "Name: count, dtype: int64"
      ]
     },
     "execution_count": 10,
     "metadata": {},
     "output_type": "execute_result"
    }
   ],
   "source": [
    "dataset['dosage_form'].value_counts().tail(1)"
   ]
  },
  {
   "cell_type": "code",
   "execution_count": 11,
   "id": "ae684ba4-5deb-45e9-acdb-644f5bf79fc4",
   "metadata": {},
   "outputs": [
    {
     "data": {
      "text/plain": [
       "therapeutic_class\n",
       "other               144119\n",
       "antibiotic           30660\n",
       "analgesic            24105\n",
       "antacid              17432\n",
       "antihistamine        13414\n",
       "antidiabetic          8957\n",
       "antihypertensive      7324\n",
       "corticosteroid        2968\n",
       "antidepressant        2499\n",
       "bronchodilator        1802\n",
       "Name: count, dtype: int64"
      ]
     },
     "execution_count": 11,
     "metadata": {},
     "output_type": "execute_result"
    }
   ],
   "source": [
    "# Top 10 therapeutic classes\n",
    "dataset['therapeutic_class'].value_counts().head(10)"
   ]
  },
  {
   "cell_type": "code",
   "execution_count": 12,
   "id": "5a1f971d-3b94-4cc0-ba6a-71306e7c560b",
   "metadata": {},
   "outputs": [
    {
     "data": {
      "image/png": "[encoded data removed]",
      "text/plain": [
       "<Figure size 1000x500 with 1 Axes>"
      ]
     },
     "metadata": {},
     "output_type": "display_data"
    }
   ],
   "source": [
    "plt.figure(figsize=(10, 5))\n",
    "plt.hist(dataset['price_inr'], bins=50, color='skyblue', edgecolor='black')\n",
    "plt.title('Price Distribution')\n",
    "plt.xlabel('Price (INR)')\n",
    "plt.ylabel('Frequency')\n",
    "plt.grid(True)\n",
    "plt.show()\n"
   ]
  },
  {
   "cell_type": "markdown",
   "id": "98eaaf27-1852-47fb-ab7b-03291694905e",
   "metadata": {},
   "source": [
    "## AVG price by dosage_value"
   ]
  },
  {
   "cell_type": "code",
   "execution_count": 13,
   "id": "c270e1f1-264f-4a0b-a886-ddab5ed0b133",
   "metadata": {},
   "outputs": [
    {
     "data": {
      "text/html": [
       "<div>\n",
       "<style scoped>\n",
       "    .dataframe tbody tr th:only-of-type {\n",
       "        vertical-align: middle;\n",
       "    }\n",
       "\n",
       "    .dataframe tbody tr th {\n",
       "        vertical-align: top;\n",
       "    }\n",
       "\n",
       "    .dataframe thead th {\n",
       "        text-align: right;\n",
       "    }\n",
       "</style>\n",
       "<table border=\"1\" class=\"dataframe\">\n",
       "  <thead>\n",
       "    <tr style=\"text-align: right;\">\n",
       "      <th></th>\n",
       "      <th>dosage_form</th>\n",
       "      <th>price_inr</th>\n",
       "    </tr>\n",
       "  </thead>\n",
       "  <tbody>\n",
       "    <tr>\n",
       "      <th>0</th>\n",
       "      <td>capsule</td>\n",
       "      <td>315.301660</td>\n",
       "    </tr>\n",
       "    <tr>\n",
       "      <th>1</th>\n",
       "      <td>cream</td>\n",
       "      <td>132.384747</td>\n",
       "    </tr>\n",
       "    <tr>\n",
       "      <th>2</th>\n",
       "      <td>drops</td>\n",
       "      <td>89.337565</td>\n",
       "    </tr>\n",
       "    <tr>\n",
       "      <th>3</th>\n",
       "      <td>gel</td>\n",
       "      <td>150.467736</td>\n",
       "    </tr>\n",
       "    <tr>\n",
       "      <th>4</th>\n",
       "      <td>inhaler</td>\n",
       "      <td>472.815131</td>\n",
       "    </tr>\n",
       "    <tr>\n",
       "      <th>5</th>\n",
       "      <td>injection</td>\n",
       "      <td>893.375552</td>\n",
       "    </tr>\n",
       "    <tr>\n",
       "      <th>6</th>\n",
       "      <td>ointment</td>\n",
       "      <td>125.009575</td>\n",
       "    </tr>\n",
       "    <tr>\n",
       "      <th>7</th>\n",
       "      <td>other</td>\n",
       "      <td>462.836402</td>\n",
       "    </tr>\n",
       "    <tr>\n",
       "      <th>8</th>\n",
       "      <td>powder</td>\n",
       "      <td>391.151910</td>\n",
       "    </tr>\n",
       "    <tr>\n",
       "      <th>9</th>\n",
       "      <td>respules</td>\n",
       "      <td>156.661967</td>\n",
       "    </tr>\n",
       "    <tr>\n",
       "      <th>10</th>\n",
       "      <td>solution</td>\n",
       "      <td>1130.632677</td>\n",
       "    </tr>\n",
       "    <tr>\n",
       "      <th>11</th>\n",
       "      <td>spray</td>\n",
       "      <td>376.610628</td>\n",
       "    </tr>\n",
       "    <tr>\n",
       "      <th>12</th>\n",
       "      <td>suspension</td>\n",
       "      <td>82.002697</td>\n",
       "    </tr>\n",
       "    <tr>\n",
       "      <th>13</th>\n",
       "      <td>syrup</td>\n",
       "      <td>70.845032</td>\n",
       "    </tr>\n",
       "    <tr>\n",
       "      <th>14</th>\n",
       "      <td>tablet</td>\n",
       "      <td>163.554909</td>\n",
       "    </tr>\n",
       "  </tbody>\n",
       "</table>\n",
       "</div>"
      ],
      "text/plain": [
       "   dosage_form    price_inr\n",
       "0      capsule   315.301660\n",
       "1        cream   132.384747\n",
       "2        drops    89.337565\n",
       "3          gel   150.467736\n",
       "4      inhaler   472.815131\n",
       "5    injection   893.375552\n",
       "6     ointment   125.009575\n",
       "7        other   462.836402\n",
       "8       powder   391.151910\n",
       "9     respules   156.661967\n",
       "10    solution  1130.632677\n",
       "11       spray   376.610628\n",
       "12  suspension    82.002697\n",
       "13       syrup    70.845032\n",
       "14      tablet   163.554909"
      ]
     },
     "execution_count": 13,
     "metadata": {},
     "output_type": "execute_result"
    }
   ],
   "source": [
    "dataset.groupby('dosage_form')['price_inr'].mean().reset_index()"
   ]
  },
  {
   "cell_type": "markdown",
   "id": "629396b6-a5e9-47b9-9b6c-eee27b73207c",
   "metadata": {},
   "source": [
    "## Top 10 most expensive products"
   ]
  },
  {
   "cell_type": "code",
   "execution_count": 16,
   "id": "9d5cb83f-d559-4929-ba35-9e689f9be582",
   "metadata": {},
   "outputs": [
    {
     "data": {
      "text/html": [
       "<div>\n",
       "<style scoped>\n",
       "    .dataframe tbody tr th:only-of-type {\n",
       "        vertical-align: middle;\n",
       "    }\n",
       "\n",
       "    .dataframe tbody tr th {\n",
       "        vertical-align: top;\n",
       "    }\n",
       "\n",
       "    .dataframe thead th {\n",
       "        text-align: right;\n",
       "    }\n",
       "</style>\n",
       "<table border=\"1\" class=\"dataframe\">\n",
       "  <thead>\n",
       "    <tr style=\"text-align: right;\">\n",
       "      <th></th>\n",
       "      <th>brand_name</th>\n",
       "      <th>manufacturer</th>\n",
       "      <th>price_inr</th>\n",
       "      <th>dosage_form</th>\n",
       "      <th>pack_unit</th>\n",
       "    </tr>\n",
       "  </thead>\n",
       "  <tbody>\n",
       "    <tr>\n",
       "      <th>113862</th>\n",
       "      <td>Imbruvica 140mg Capsule</td>\n",
       "      <td>Janssen Pharmaceuticals</td>\n",
       "      <td>436000.0</td>\n",
       "      <td>capsule</td>\n",
       "      <td>units</td>\n",
       "    </tr>\n",
       "    <tr>\n",
       "      <th>217021</th>\n",
       "      <td>Tecentriq 1200mg Injection</td>\n",
       "      <td>Roche Products India Pvt Ltd</td>\n",
       "      <td>396725.0</td>\n",
       "      <td>solution</td>\n",
       "      <td>ml</td>\n",
       "    </tr>\n",
       "    <tr>\n",
       "      <th>243971</th>\n",
       "      <td>Xtandi 40mg Soft Capsule</td>\n",
       "      <td>Astellas Pharma Inc</td>\n",
       "      <td>335635.0</td>\n",
       "      <td>capsule</td>\n",
       "      <td>units</td>\n",
       "    </tr>\n",
       "    <tr>\n",
       "      <th>28711</th>\n",
       "      <td>Besponsa 1mg Injection</td>\n",
       "      <td>Pfizer Ltd</td>\n",
       "      <td>330000.0</td>\n",
       "      <td>injection</td>\n",
       "      <td>ml</td>\n",
       "    </tr>\n",
       "    <tr>\n",
       "      <th>113861</th>\n",
       "      <td>Imbruvica 140mg Capsule</td>\n",
       "      <td>Janssen Pharmaceuticals</td>\n",
       "      <td>328000.0</td>\n",
       "      <td>capsule</td>\n",
       "      <td>units</td>\n",
       "    </tr>\n",
       "    <tr>\n",
       "      <th>129170</th>\n",
       "      <td>Lorbriqua 100mg Tablet</td>\n",
       "      <td>Pfizer Ltd</td>\n",
       "      <td>312000.0</td>\n",
       "      <td>tablet</td>\n",
       "      <td>units</td>\n",
       "    </tr>\n",
       "    <tr>\n",
       "      <th>219482</th>\n",
       "      <td>Tecentriq Injection</td>\n",
       "      <td>Roche Products India Pvt Ltd</td>\n",
       "      <td>277708.0</td>\n",
       "      <td>injection</td>\n",
       "      <td>ml</td>\n",
       "    </tr>\n",
       "    <tr>\n",
       "      <th>35994</th>\n",
       "      <td>Cyramza 500mg Injection</td>\n",
       "      <td>Eli Lilly and Company India Pvt Ltd</td>\n",
       "      <td>257532.0</td>\n",
       "      <td>injection</td>\n",
       "      <td>ml</td>\n",
       "    </tr>\n",
       "    <tr>\n",
       "      <th>175276</th>\n",
       "      <td>Perjeta 420mg Injection</td>\n",
       "      <td>Roche Products India Pvt Ltd</td>\n",
       "      <td>255150.0</td>\n",
       "      <td>injection</td>\n",
       "      <td>ml</td>\n",
       "    </tr>\n",
       "    <tr>\n",
       "      <th>116435</th>\n",
       "      <td>Kadcyla 160mg Injection</td>\n",
       "      <td>Roche Products India Pvt Ltd</td>\n",
       "      <td>248937.0</td>\n",
       "      <td>injection</td>\n",
       "      <td>ml</td>\n",
       "    </tr>\n",
       "  </tbody>\n",
       "</table>\n",
       "</div>"
      ],
      "text/plain": [
       "                        brand_name                         manufacturer  \\\n",
       "113862     Imbruvica 140mg Capsule              Janssen Pharmaceuticals   \n",
       "217021  Tecentriq 1200mg Injection         Roche Products India Pvt Ltd   \n",
       "243971    Xtandi 40mg Soft Capsule                  Astellas Pharma Inc   \n",
       "28711       Besponsa 1mg Injection                           Pfizer Ltd   \n",
       "113861     Imbruvica 140mg Capsule              Janssen Pharmaceuticals   \n",
       "129170      Lorbriqua 100mg Tablet                           Pfizer Ltd   \n",
       "219482         Tecentriq Injection         Roche Products India Pvt Ltd   \n",
       "35994      Cyramza 500mg Injection  Eli Lilly and Company India Pvt Ltd   \n",
       "175276     Perjeta 420mg Injection         Roche Products India Pvt Ltd   \n",
       "116435     Kadcyla 160mg Injection         Roche Products India Pvt Ltd   \n",
       "\n",
       "        price_inr dosage_form pack_unit  \n",
       "113862   436000.0     capsule     units  \n",
       "217021   396725.0    solution        ml  \n",
       "243971   335635.0     capsule     units  \n",
       "28711    330000.0   injection        ml  \n",
       "113861   328000.0     capsule     units  \n",
       "129170   312000.0      tablet     units  \n",
       "219482   277708.0   injection        ml  \n",
       "35994    257532.0   injection        ml  \n",
       "175276   255150.0   injection        ml  \n",
       "116435   248937.0   injection        ml  "
      ]
     },
     "execution_count": 16,
     "metadata": {},
     "output_type": "execute_result"
    }
   ],
   "source": [
    "expensive_product = dataset.sort_values(by ='price_inr', ascending = False)\n",
    "top_10 = expensive_product.head(10)\n",
    "top_10[['brand_name','manufacturer','price_inr','dosage_form','pack_unit']]"
   ]
  },
  {
   "cell_type": "markdown",
   "id": "b5daf694-86ac-47ba-8908-f2dc944bf891",
   "metadata": {},
   "source": [
    "## Select the data in rows[3,8,4] and in columns brand name and manufacturer "
   ]
  },
  {
   "cell_type": "code",
   "execution_count": 17,
   "id": "6109e7ab-9c9a-41eb-8b1a-a3e94433778e",
   "metadata": {},
   "outputs": [
    {
     "data": {
      "text/html": [
       "<div>\n",
       "<style scoped>\n",
       "    .dataframe tbody tr th:only-of-type {\n",
       "        vertical-align: middle;\n",
       "    }\n",
       "\n",
       "    .dataframe tbody tr th {\n",
       "        vertical-align: top;\n",
       "    }\n",
       "\n",
       "    .dataframe thead th {\n",
       "        text-align: right;\n",
       "    }\n",
       "</style>\n",
       "<table border=\"1\" class=\"dataframe\">\n",
       "  <thead>\n",
       "    <tr style=\"text-align: right;\">\n",
       "      <th></th>\n",
       "      <th>brand_name</th>\n",
       "      <th>manufacturer</th>\n",
       "    </tr>\n",
       "  </thead>\n",
       "  <tbody>\n",
       "    <tr>\n",
       "      <th>3</th>\n",
       "      <td>Allegra 120mg Tablet</td>\n",
       "      <td>Sanofi India Ltd</td>\n",
       "    </tr>\n",
       "    <tr>\n",
       "      <th>8</th>\n",
       "      <td>Atarax 25mg Tablet</td>\n",
       "      <td>Dr Reddy's Laboratories Ltd</td>\n",
       "    </tr>\n",
       "    <tr>\n",
       "      <th>4</th>\n",
       "      <td>Avil 25 Tablet</td>\n",
       "      <td>Sanofi India Ltd</td>\n",
       "    </tr>\n",
       "  </tbody>\n",
       "</table>\n",
       "</div>"
      ],
      "text/plain": [
       "             brand_name                 manufacturer\n",
       "3  Allegra 120mg Tablet             Sanofi India Ltd\n",
       "8    Atarax 25mg Tablet  Dr Reddy's Laboratories Ltd\n",
       "4        Avil 25 Tablet             Sanofi India Ltd"
      ]
     },
     "execution_count": 17,
     "metadata": {},
     "output_type": "execute_result"
    }
   ],
   "source": [
    "dataset[['brand_name','manufacturer']].iloc[[3,8,4]] "
   ]
  },
  {
   "cell_type": "markdown",
   "id": "51e82e74-97d4-48c2-b8f3-a0019aa839ee",
   "metadata": {},
   "source": [
    "## Select the rows where manufacturer is NAN"
   ]
  },
  {
   "cell_type": "code",
   "execution_count": 22,
   "id": "4da05919-2508-43ac-85a7-1b230f4dbac3",
   "metadata": {},
   "outputs": [
    {
     "data": {
      "text/plain": [
       "product_id                351\n",
       "brand_name                351\n",
       "manufacturer              351\n",
       "price_inr                 351\n",
       "is_discontinued           351\n",
       "dosage_form               351\n",
       "pack_size                 351\n",
       "pack_unit                 351\n",
       "num_active_ingredients    351\n",
       "primary_ingredient        351\n",
       "primary_strength          351\n",
       "active_ingredients        351\n",
       "therapeutic_class         351\n",
       "packaging_raw             351\n",
       "manufacturer_raw          351\n",
       "dtype: int64"
      ]
     },
     "execution_count": 22,
     "metadata": {},
     "output_type": "execute_result"
    }
   ],
   "source": [
    "dataset[dataset['manufacturer'] == 'Sanofi India Ltd'].count()"
   ]
  },
  {
   "cell_type": "code",
   "execution_count": null,
   "id": "ba73cffa-d06b-4404-99bc-b538b483f2f1",
   "metadata": {},
   "outputs": [],
   "source": []
  }
 ],
 "metadata": {
  "kernelspec": {
   "display_name": "Python 3 (ipykernel)",
   "language": "python",
   "name": "python3"
  },
  "language_info": {
   "codemirror_mode": {
    "name": "ipython",
    "version": 3
   },
   "file_extension": ".py",
   "mimetype": "text/x-python",
   "name": "python",
   "nbconvert_exporter": "python",
   "pygments_lexer": "ipython3",
   "version": "3.12.7"
  }
 },
 "nbformat": 4,
 "nbformat_minor": 5
}
