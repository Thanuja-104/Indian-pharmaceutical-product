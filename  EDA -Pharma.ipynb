{
 "cells": [
  {
   "cell_type": "code",
   "execution_count": 1,
   "id": "829aa54d-3de3-4aab-8944-6f8e7a010c82",
   "metadata": {},
   "outputs": [],
   "source": [
    "import pandas as pd\n",
    "import numpy as np\n",
    "import matplotlib.pyplot as plt\n",
    "import seaborn as sns"
   ]
  },
  {
   "cell_type": "code",
   "execution_count": 2,
   "id": "3c415bcd-3b82-49c1-a8c0-9856f20ec412",
   "metadata": {},
   "outputs": [
    {
     "data": {
      "text/html": [
       "<div>\n",
       "<style scoped>\n",
       "    .dataframe tbody tr th:only-of-type {\n",
       "        vertical-align: middle;\n",
       "    }\n",
       "\n",
       "    .dataframe tbody tr th {\n",
       "        vertical-align: top;\n",
       "    }\n",
       "\n",
       "    .dataframe thead th {\n",
       "        text-align: right;\n",
       "    }\n",
       "</style>\n",
       "<table border=\"1\" class=\"dataframe\">\n",
       "  <thead>\n",
       "    <tr style=\"text-align: right;\">\n",
       "      <th></th>\n",
       "      <th>product_id</th>\n",
       "      <th>brand_name</th>\n",
       "      <th>manufacturer</th>\n",
       "      <th>price_inr</th>\n",
       "      <th>is_discontinued</th>\n",
       "      <th>dosage_form</th>\n",
       "      <th>pack_size</th>\n",
       "      <th>pack_unit</th>\n",
       "      <th>num_active_ingredients</th>\n",
       "      <th>primary_ingredient</th>\n",
       "      <th>primary_strength</th>\n",
       "      <th>active_ingredients</th>\n",
       "      <th>therapeutic_class</th>\n",
       "      <th>packaging_raw</th>\n",
       "      <th>manufacturer_raw</th>\n",
       "    </tr>\n",
       "  </thead>\n",
       "  <tbody>\n",
       "    <tr>\n",
       "      <th>0</th>\n",
       "      <td>1</td>\n",
       "      <td>Augmentin 625 Duo Tablet</td>\n",
       "      <td>Glaxo SmithKline Pharmaceuticals Ltd</td>\n",
       "      <td>223.42</td>\n",
       "      <td>False</td>\n",
       "      <td>tablet</td>\n",
       "      <td>10.0</td>\n",
       "      <td>strip</td>\n",
       "      <td>2</td>\n",
       "      <td>Amoxycillin</td>\n",
       "      <td>500mg</td>\n",
       "      <td>[{'name': 'Amoxycillin', 'strength': '500mg', ...</td>\n",
       "      <td>antibiotic</td>\n",
       "      <td>strip of 10 tablets</td>\n",
       "      <td>Glaxo SmithKline Pharmaceuticals Ltd</td>\n",
       "    </tr>\n",
       "    <tr>\n",
       "      <th>1</th>\n",
       "      <td>2</td>\n",
       "      <td>Azithral 500 Tablet</td>\n",
       "      <td>Alembic Pharmaceuticals Ltd</td>\n",
       "      <td>132.36</td>\n",
       "      <td>False</td>\n",
       "      <td>tablet</td>\n",
       "      <td>5.0</td>\n",
       "      <td>strip</td>\n",
       "      <td>1</td>\n",
       "      <td>Azithromycin</td>\n",
       "      <td>500mg</td>\n",
       "      <td>[{'name': 'Azithromycin', 'strength': '500mg',...</td>\n",
       "      <td>antibiotic</td>\n",
       "      <td>strip of 5 tablets</td>\n",
       "      <td>Alembic Pharmaceuticals Ltd</td>\n",
       "    </tr>\n",
       "    <tr>\n",
       "      <th>2</th>\n",
       "      <td>3</td>\n",
       "      <td>Ascoril LS Syrup</td>\n",
       "      <td>Glenmark Pharmaceuticals Ltd</td>\n",
       "      <td>118.00</td>\n",
       "      <td>False</td>\n",
       "      <td>syrup</td>\n",
       "      <td>100.0</td>\n",
       "      <td>bottle</td>\n",
       "      <td>2</td>\n",
       "      <td>Ambroxol</td>\n",
       "      <td>30mg/5ml</td>\n",
       "      <td>[{'name': 'Ambroxol', 'strength': '30mg/5ml', ...</td>\n",
       "      <td>bronchodilator</td>\n",
       "      <td>bottle of 100 ml Syrup</td>\n",
       "      <td>Glenmark Pharmaceuticals Ltd</td>\n",
       "    </tr>\n",
       "    <tr>\n",
       "      <th>3</th>\n",
       "      <td>4</td>\n",
       "      <td>Allegra 120mg Tablet</td>\n",
       "      <td>Sanofi India Ltd</td>\n",
       "      <td>218.81</td>\n",
       "      <td>False</td>\n",
       "      <td>tablet</td>\n",
       "      <td>10.0</td>\n",
       "      <td>strip</td>\n",
       "      <td>1</td>\n",
       "      <td>Fexofenadine</td>\n",
       "      <td>120mg</td>\n",
       "      <td>[{'name': 'Fexofenadine', 'strength': '120mg',...</td>\n",
       "      <td>antihistamine</td>\n",
       "      <td>strip of 10 tablets</td>\n",
       "      <td>Sanofi India  Ltd</td>\n",
       "    </tr>\n",
       "    <tr>\n",
       "      <th>4</th>\n",
       "      <td>5</td>\n",
       "      <td>Avil 25 Tablet</td>\n",
       "      <td>Sanofi India Ltd</td>\n",
       "      <td>10.96</td>\n",
       "      <td>False</td>\n",
       "      <td>tablet</td>\n",
       "      <td>15.0</td>\n",
       "      <td>strip</td>\n",
       "      <td>1</td>\n",
       "      <td>Pheniramine</td>\n",
       "      <td>25mg</td>\n",
       "      <td>[{'name': 'Pheniramine', 'strength': '25mg', '...</td>\n",
       "      <td>other</td>\n",
       "      <td>strip of 15 tablets</td>\n",
       "      <td>Sanofi India  Ltd</td>\n",
       "    </tr>\n",
       "  </tbody>\n",
       "</table>\n",
       "</div>"
      ],
      "text/plain": [
       "   product_id                brand_name                          manufacturer  \\\n",
       "0           1  Augmentin 625 Duo Tablet  Glaxo SmithKline Pharmaceuticals Ltd   \n",
       "1           2       Azithral 500 Tablet           Alembic Pharmaceuticals Ltd   \n",
       "2           3          Ascoril LS Syrup          Glenmark Pharmaceuticals Ltd   \n",
       "3           4      Allegra 120mg Tablet                      Sanofi India Ltd   \n",
       "4           5            Avil 25 Tablet                      Sanofi India Ltd   \n",
       "\n",
       "   price_inr  is_discontinued dosage_form pack_size pack_unit  \\\n",
       "0     223.42            False      tablet      10.0     strip   \n",
       "1     132.36            False      tablet       5.0     strip   \n",
       "2     118.00            False       syrup     100.0    bottle   \n",
       "3     218.81            False      tablet      10.0     strip   \n",
       "4      10.96            False      tablet      15.0     strip   \n",
       "\n",
       "   num_active_ingredients primary_ingredient primary_strength  \\\n",
       "0                       2        Amoxycillin            500mg   \n",
       "1                       1       Azithromycin            500mg   \n",
       "2                       2           Ambroxol         30mg/5ml   \n",
       "3                       1       Fexofenadine            120mg   \n",
       "4                       1        Pheniramine             25mg   \n",
       "\n",
       "                                  active_ingredients therapeutic_class  \\\n",
       "0  [{'name': 'Amoxycillin', 'strength': '500mg', ...        antibiotic   \n",
       "1  [{'name': 'Azithromycin', 'strength': '500mg',...        antibiotic   \n",
       "2  [{'name': 'Ambroxol', 'strength': '30mg/5ml', ...    bronchodilator   \n",
       "3  [{'name': 'Fexofenadine', 'strength': '120mg',...     antihistamine   \n",
       "4  [{'name': 'Pheniramine', 'strength': '25mg', '...             other   \n",
       "\n",
       "            packaging_raw                      manufacturer_raw  \n",
       "0     strip of 10 tablets  Glaxo SmithKline Pharmaceuticals Ltd  \n",
       "1      strip of 5 tablets           Alembic Pharmaceuticals Ltd  \n",
       "2  bottle of 100 ml Syrup          Glenmark Pharmaceuticals Ltd  \n",
       "3     strip of 10 tablets                     Sanofi India  Ltd  \n",
       "4     strip of 15 tablets                     Sanofi India  Ltd  "
      ]
     },
     "execution_count": 2,
     "metadata": {},
     "output_type": "execute_result"
    }
   ],
   "source": [
    "dataset = pd.read_csv('updated_pharma_data.csv')\n",
    "dataset.head()"
   ]
  },
  {
   "cell_type": "code",
   "execution_count": 3,
   "id": "089a7489-4350-4ed7-a68a-5ca69bc68310",
   "metadata": {},
   "outputs": [
    {
     "data": {
      "text/plain": [
       "(253973, 15)"
      ]
     },
     "execution_count": 3,
     "metadata": {},
     "output_type": "execute_result"
    }
   ],
   "source": [
    "dataset.shape"
   ]
  },
  {
   "cell_type": "code",
   "execution_count": 4,
   "id": "2cf865a9-024c-4598-b2a9-282973f408d7",
   "metadata": {},
   "outputs": [
    {
     "data": {
      "text/plain": [
       "Index(['product_id', 'brand_name', 'manufacturer', 'price_inr',\n",
       "       'is_discontinued', 'dosage_form', 'pack_size', 'pack_unit',\n",
       "       'num_active_ingredients', 'primary_ingredient', 'primary_strength',\n",
       "       'active_ingredients', 'therapeutic_class', 'packaging_raw',\n",
       "       'manufacturer_raw'],\n",
       "      dtype='object')"
      ]
     },
     "execution_count": 4,
     "metadata": {},
     "output_type": "execute_result"
    }
   ],
   "source": [
    "dataset.columns"
   ]
  },
  {
   "cell_type": "code",
   "execution_count": 5,
   "id": "7b8d1aa8-34bf-4163-9845-62a68c1b0b3d",
   "metadata": {},
   "outputs": [
    {
     "name": "stdout",
     "output_type": "stream",
     "text": [
      "<class 'pandas.core.frame.DataFrame'>\n",
      "RangeIndex: 253973 entries, 0 to 253972\n",
      "Data columns (total 15 columns):\n",
      " #   Column                  Non-Null Count   Dtype  \n",
      "---  ------                  --------------   -----  \n",
      " 0   product_id              253973 non-null  int64  \n",
      " 1   brand_name              253973 non-null  object \n",
      " 2   manufacturer            253973 non-null  object \n",
      " 3   price_inr               253973 non-null  float64\n",
      " 4   is_discontinued         253973 non-null  bool   \n",
      " 5   dosage_form             253973 non-null  object \n",
      " 6   pack_size               253973 non-null  object \n",
      " 7   pack_unit               253973 non-null  object \n",
      " 8   num_active_ingredients  253973 non-null  int64  \n",
      " 9   primary_ingredient      253973 non-null  object \n",
      " 10  primary_strength        253973 non-null  object \n",
      " 11  active_ingredients      253973 non-null  object \n",
      " 12  therapeutic_class       253973 non-null  object \n",
      " 13  packaging_raw           253973 non-null  object \n",
      " 14  manufacturer_raw        253973 non-null  object \n",
      "dtypes: bool(1), float64(1), int64(2), object(11)\n",
      "memory usage: 27.4+ MB\n"
     ]
    }
   ],
   "source": [
    "dataset.info()"
   ]
  },
  {
   "cell_type": "code",
   "execution_count": 9,
   "id": "d5e26bd7-2cb3-4dd4-845f-6d5a8f9e2c36",
   "metadata": {},
   "outputs": [
    {
     "data": {
      "text/plain": [
       "product_id                  int64\n",
       "brand_name                 object\n",
       "manufacturer               object\n",
       "price_inr                 float64\n",
       "is_discontinued              bool\n",
       "dosage_form                object\n",
       "pack_size                 float64\n",
       "pack_unit                  object\n",
       "num_active_ingredients      int64\n",
       "primary_ingredient         object\n",
       "primary_strength           object\n",
       "active_ingredients         object\n",
       "therapeutic_class          object\n",
       "packaging_raw              object\n",
       "manufacturer_raw           object\n",
       "dtype: object"
      ]
     },
     "execution_count": 9,
     "metadata": {},
     "output_type": "execute_result"
    }
   ],
   "source": [
    "# Check datatypes\n",
    "dataset.dtypes"
   ]
  },
  {
   "cell_type": "code",
   "execution_count": 18,
   "id": "088e8905-6889-4457-8c07-52830e421d19",
   "metadata": {},
   "outputs": [],
   "source": [
    "# change necessary datatypes\n",
    "dataset['pack_size'] = pd.to_numeric(dataset['pack_size'], errors = 'coerce')"
   ]
  },
  {
   "cell_type": "code",
   "execution_count": 8,
   "id": "751297f9-dd21-47f8-8f27-2da371d840ba",
   "metadata": {},
   "outputs": [
    {
     "data": {
      "text/plain": [
       "product_id                  int64\n",
       "brand_name                 object\n",
       "manufacturer               object\n",
       "price_inr                 float64\n",
       "is_discontinued              bool\n",
       "dosage_form                object\n",
       "pack_size                 float64\n",
       "pack_unit                  object\n",
       "num_active_ingredients      int64\n",
       "primary_ingredient         object\n",
       "primary_strength           object\n",
       "active_ingredients         object\n",
       "therapeutic_class          object\n",
       "packaging_raw              object\n",
       "manufacturer_raw           object\n",
       "dtype: object"
      ]
     },
     "execution_count": 8,
     "metadata": {},
     "output_type": "execute_result"
    }
   ],
   "source": [
    "dataset.dtypes"
   ]
  },
  {
   "cell_type": "code",
   "execution_count": 11,
   "id": "f5b55911-983b-4675-93d8-d4625fe336a6",
   "metadata": {},
   "outputs": [
    {
     "data": {
      "text/plain": [
       "product_id                    0\n",
       "brand_name                    0\n",
       "manufacturer                  0\n",
       "price_inr                     0\n",
       "is_discontinued               0\n",
       "dosage_form                   0\n",
       "pack_size                 22330\n",
       "pack_unit                     0\n",
       "num_active_ingredients        0\n",
       "primary_ingredient            0\n",
       "primary_strength              0\n",
       "active_ingredients            0\n",
       "therapeutic_class             0\n",
       "packaging_raw                 0\n",
       "manufacturer_raw              0\n",
       "dtype: int64"
      ]
     },
     "execution_count": 11,
     "metadata": {},
     "output_type": "execute_result"
    }
   ],
   "source": [
    "# Check for null\n",
    "dataset.isnull().sum()"
   ]
  },
  {
   "cell_type": "code",
   "execution_count": 13,
   "id": "aeaa5b9a-cc52-4d76-8e12-5e4a88bcd42f",
   "metadata": {},
   "outputs": [
    {
     "name": "stderr",
     "output_type": "stream",
     "text": [
      "C:\\Users\\dell\\AppData\\Local\\Temp\\ipykernel_1304\\2235872905.py:1: FutureWarning: A value is trying to be set on a copy of a DataFrame or Series through chained assignment using an inplace method.\n",
      "The behavior will change in pandas 3.0. This inplace method will never work because the intermediate object on which we are setting values always behaves as a copy.\n",
      "\n",
      "For example, when doing 'df[col].method(value, inplace=True)', try using 'df.method({col: value}, inplace=True)' or df[col] = df[col].method(value) instead, to perform the operation inplace on the original object.\n",
      "\n",
      "\n",
      "  dataset['pack_size'].fillna('0', inplace = True)\n",
      "C:\\Users\\dell\\AppData\\Local\\Temp\\ipykernel_1304\\2235872905.py:1: FutureWarning: Setting an item of incompatible dtype is deprecated and will raise an error in a future version of pandas. Value '0' has dtype incompatible with float64, please explicitly cast to a compatible dtype first.\n",
      "  dataset['pack_size'].fillna('0', inplace = True)\n"
     ]
    }
   ],
   "source": [
    "dataset['pack_size'].fillna('0', inplace = True)"
   ]
  },
  {
   "cell_type": "code",
   "execution_count": 14,
   "id": "b0dbed55-c9b6-4229-ae20-da77941bef6c",
   "metadata": {},
   "outputs": [
    {
     "data": {
      "text/plain": [
       "product_id                0\n",
       "brand_name                0\n",
       "manufacturer              0\n",
       "price_inr                 0\n",
       "is_discontinued           0\n",
       "dosage_form               0\n",
       "pack_size                 0\n",
       "pack_unit                 0\n",
       "num_active_ingredients    0\n",
       "primary_ingredient        0\n",
       "primary_strength          0\n",
       "active_ingredients        0\n",
       "therapeutic_class         0\n",
       "packaging_raw             0\n",
       "manufacturer_raw          0\n",
       "dtype: int64"
      ]
     },
     "execution_count": 14,
     "metadata": {},
     "output_type": "execute_result"
    }
   ],
   "source": [
    "dataset.isnull().sum()"
   ]
  },
  {
   "cell_type": "code",
   "execution_count": 17,
   "id": "4c4712ee-f57e-4517-b1b7-3753de07d861",
   "metadata": {},
   "outputs": [],
   "source": [
    "dataset.to_csv('pharma_data.csv', index=False)"
   ]
  },
  {
   "cell_type": "code",
   "execution_count": null,
   "id": "616ac1e8-d697-420e-b40a-6a7724e00afd",
   "metadata": {},
   "outputs": [],
   "source": []
  }
 ],
 "metadata": {
  "kernelspec": {
   "display_name": "Python 3 (ipykernel)",
   "language": "python",
   "name": "python3"
  },
  "language_info": {
   "codemirror_mode": {
    "name": "ipython",
    "version": 3
   },
   "file_extension": ".py",
   "mimetype": "text/x-python",
   "name": "python",
   "nbconvert_exporter": "python",
   "pygments_lexer": "ipython3",
   "version": "3.12.7"
  }
 },
 "nbformat": 4,
 "nbformat_minor": 5
}
